{
  "nbformat": 4,
  "nbformat_minor": 0,
  "metadata": {
    "colab": {
      "provenance": []
    },
    "kernelspec": {
      "name": "python3",
      "display_name": "Python 3"
    },
    "language_info": {
      "name": "python"
    }
  },
  "cells": [
    {
      "cell_type": "markdown",
      "source": [
        "# USA Real Estate Dataset Models | Data Science\n",
        "Larry Serratos X"
      ],
      "metadata": {
        "id": "lely1Bd54xtr"
      }
    },
    {
      "cell_type": "markdown",
      "source": [
        "### Objective\n",
        "\n",
        "For this dataset it will be applied different data science and machine learning techniques in order to predict housing prices. The data is alredy clean, the original was taken from https://www.kaggle.com/datasets/ahmedshahriarsakib/usa-real-estate-dataset/data"
      ],
      "metadata": {
        "id": "PP_mazfd5H3S"
      }
    },
    {
      "cell_type": "code",
      "source": [
        "import pandas as pd\n",
        "import numpy as np\n",
        "import seaborn as sns\n",
        "import matplotlib.pyplot as plt"
      ],
      "metadata": {
        "id": "s0vfWbar5HFd"
      },
      "execution_count": 2,
      "outputs": []
    },
    {
      "cell_type": "code",
      "source": [
        "data = pd.read_excel('cleandata.xlsx')\n",
        "data"
      ],
      "metadata": {
        "colab": {
          "base_uri": "https://localhost:8080/",
          "height": 424
        },
        "id": "jakcOdIFWkHf",
        "outputId": "a49caecb-8696-41cd-f8e9-6e44fd6a1302"
      },
      "execution_count": null,
      "outputs": [
        {
          "output_type": "execute_result",
          "data": {
            "text/plain": [
              "        status  bed  bath  acre_lot  zip_code  house_size    price\n",
              "0            1    3     2      0.12       601         920   105000\n",
              "1            1    4     2      0.08       601        1527    80000\n",
              "2            1    2     1      0.15       795         748    67000\n",
              "3            1    4     2      0.10       731        1800   145000\n",
              "4            1    4     3      0.46       612        2520   179000\n",
              "...        ...  ...   ...       ...       ...         ...      ...\n",
              "207475       1    3     2      0.23     32164        1552   309990\n",
              "207476       1    4     3      0.32     32164        3043   589000\n",
              "207477       1    4     2      0.23     32164        2348   525000\n",
              "207478       1    3     2      0.29     32164        1399   345000\n",
              "207479       1    3     2      0.23     32164        1409  1650000\n",
              "\n",
              "[207480 rows x 7 columns]"
            ],
            "text/html": [
              "\n",
              "  <div id=\"df-c88d2ffd-ac73-47e7-bbcc-08ff03465600\" class=\"colab-df-container\">\n",
              "    <div>\n",
              "<style scoped>\n",
              "    .dataframe tbody tr th:only-of-type {\n",
              "        vertical-align: middle;\n",
              "    }\n",
              "\n",
              "    .dataframe tbody tr th {\n",
              "        vertical-align: top;\n",
              "    }\n",
              "\n",
              "    .dataframe thead th {\n",
              "        text-align: right;\n",
              "    }\n",
              "</style>\n",
              "<table border=\"1\" class=\"dataframe\">\n",
              "  <thead>\n",
              "    <tr style=\"text-align: right;\">\n",
              "      <th></th>\n",
              "      <th>status</th>\n",
              "      <th>bed</th>\n",
              "      <th>bath</th>\n",
              "      <th>acre_lot</th>\n",
              "      <th>zip_code</th>\n",
              "      <th>house_size</th>\n",
              "      <th>price</th>\n",
              "    </tr>\n",
              "  </thead>\n",
              "  <tbody>\n",
              "    <tr>\n",
              "      <th>0</th>\n",
              "      <td>1</td>\n",
              "      <td>3</td>\n",
              "      <td>2</td>\n",
              "      <td>0.12</td>\n",
              "      <td>601</td>\n",
              "      <td>920</td>\n",
              "      <td>105000</td>\n",
              "    </tr>\n",
              "    <tr>\n",
              "      <th>1</th>\n",
              "      <td>1</td>\n",
              "      <td>4</td>\n",
              "      <td>2</td>\n",
              "      <td>0.08</td>\n",
              "      <td>601</td>\n",
              "      <td>1527</td>\n",
              "      <td>80000</td>\n",
              "    </tr>\n",
              "    <tr>\n",
              "      <th>2</th>\n",
              "      <td>1</td>\n",
              "      <td>2</td>\n",
              "      <td>1</td>\n",
              "      <td>0.15</td>\n",
              "      <td>795</td>\n",
              "      <td>748</td>\n",
              "      <td>67000</td>\n",
              "    </tr>\n",
              "    <tr>\n",
              "      <th>3</th>\n",
              "      <td>1</td>\n",
              "      <td>4</td>\n",
              "      <td>2</td>\n",
              "      <td>0.10</td>\n",
              "      <td>731</td>\n",
              "      <td>1800</td>\n",
              "      <td>145000</td>\n",
              "    </tr>\n",
              "    <tr>\n",
              "      <th>4</th>\n",
              "      <td>1</td>\n",
              "      <td>4</td>\n",
              "      <td>3</td>\n",
              "      <td>0.46</td>\n",
              "      <td>612</td>\n",
              "      <td>2520</td>\n",
              "      <td>179000</td>\n",
              "    </tr>\n",
              "    <tr>\n",
              "      <th>...</th>\n",
              "      <td>...</td>\n",
              "      <td>...</td>\n",
              "      <td>...</td>\n",
              "      <td>...</td>\n",
              "      <td>...</td>\n",
              "      <td>...</td>\n",
              "      <td>...</td>\n",
              "    </tr>\n",
              "    <tr>\n",
              "      <th>207475</th>\n",
              "      <td>1</td>\n",
              "      <td>3</td>\n",
              "      <td>2</td>\n",
              "      <td>0.23</td>\n",
              "      <td>32164</td>\n",
              "      <td>1552</td>\n",
              "      <td>309990</td>\n",
              "    </tr>\n",
              "    <tr>\n",
              "      <th>207476</th>\n",
              "      <td>1</td>\n",
              "      <td>4</td>\n",
              "      <td>3</td>\n",
              "      <td>0.32</td>\n",
              "      <td>32164</td>\n",
              "      <td>3043</td>\n",
              "      <td>589000</td>\n",
              "    </tr>\n",
              "    <tr>\n",
              "      <th>207477</th>\n",
              "      <td>1</td>\n",
              "      <td>4</td>\n",
              "      <td>2</td>\n",
              "      <td>0.23</td>\n",
              "      <td>32164</td>\n",
              "      <td>2348</td>\n",
              "      <td>525000</td>\n",
              "    </tr>\n",
              "    <tr>\n",
              "      <th>207478</th>\n",
              "      <td>1</td>\n",
              "      <td>3</td>\n",
              "      <td>2</td>\n",
              "      <td>0.29</td>\n",
              "      <td>32164</td>\n",
              "      <td>1399</td>\n",
              "      <td>345000</td>\n",
              "    </tr>\n",
              "    <tr>\n",
              "      <th>207479</th>\n",
              "      <td>1</td>\n",
              "      <td>3</td>\n",
              "      <td>2</td>\n",
              "      <td>0.23</td>\n",
              "      <td>32164</td>\n",
              "      <td>1409</td>\n",
              "      <td>1650000</td>\n",
              "    </tr>\n",
              "  </tbody>\n",
              "</table>\n",
              "<p>207480 rows × 7 columns</p>\n",
              "</div>\n",
              "    <div class=\"colab-df-buttons\">\n",
              "\n",
              "  <div class=\"colab-df-container\">\n",
              "    <button class=\"colab-df-convert\" onclick=\"convertToInteractive('df-c88d2ffd-ac73-47e7-bbcc-08ff03465600')\"\n",
              "            title=\"Convert this dataframe to an interactive table.\"\n",
              "            style=\"display:none;\">\n",
              "\n",
              "  <svg xmlns=\"http://www.w3.org/2000/svg\" height=\"24px\" viewBox=\"0 -960 960 960\">\n",
              "    <path d=\"M120-120v-720h720v720H120Zm60-500h600v-160H180v160Zm220 220h160v-160H400v160Zm0 220h160v-160H400v160ZM180-400h160v-160H180v160Zm440 0h160v-160H620v160ZM180-180h160v-160H180v160Zm440 0h160v-160H620v160Z\"/>\n",
              "  </svg>\n",
              "    </button>\n",
              "\n",
              "  <style>\n",
              "    .colab-df-container {\n",
              "      display:flex;\n",
              "      gap: 12px;\n",
              "    }\n",
              "\n",
              "    .colab-df-convert {\n",
              "      background-color: #E8F0FE;\n",
              "      border: none;\n",
              "      border-radius: 50%;\n",
              "      cursor: pointer;\n",
              "      display: none;\n",
              "      fill: #1967D2;\n",
              "      height: 32px;\n",
              "      padding: 0 0 0 0;\n",
              "      width: 32px;\n",
              "    }\n",
              "\n",
              "    .colab-df-convert:hover {\n",
              "      background-color: #E2EBFA;\n",
              "      box-shadow: 0px 1px 2px rgba(60, 64, 67, 0.3), 0px 1px 3px 1px rgba(60, 64, 67, 0.15);\n",
              "      fill: #174EA6;\n",
              "    }\n",
              "\n",
              "    .colab-df-buttons div {\n",
              "      margin-bottom: 4px;\n",
              "    }\n",
              "\n",
              "    [theme=dark] .colab-df-convert {\n",
              "      background-color: #3B4455;\n",
              "      fill: #D2E3FC;\n",
              "    }\n",
              "\n",
              "    [theme=dark] .colab-df-convert:hover {\n",
              "      background-color: #434B5C;\n",
              "      box-shadow: 0px 1px 3px 1px rgba(0, 0, 0, 0.15);\n",
              "      filter: drop-shadow(0px 1px 2px rgba(0, 0, 0, 0.3));\n",
              "      fill: #FFFFFF;\n",
              "    }\n",
              "  </style>\n",
              "\n",
              "    <script>\n",
              "      const buttonEl =\n",
              "        document.querySelector('#df-c88d2ffd-ac73-47e7-bbcc-08ff03465600 button.colab-df-convert');\n",
              "      buttonEl.style.display =\n",
              "        google.colab.kernel.accessAllowed ? 'block' : 'none';\n",
              "\n",
              "      async function convertToInteractive(key) {\n",
              "        const element = document.querySelector('#df-c88d2ffd-ac73-47e7-bbcc-08ff03465600');\n",
              "        const dataTable =\n",
              "          await google.colab.kernel.invokeFunction('convertToInteractive',\n",
              "                                                    [key], {});\n",
              "        if (!dataTable) return;\n",
              "\n",
              "        const docLinkHtml = 'Like what you see? Visit the ' +\n",
              "          '<a target=\"_blank\" href=https://colab.research.google.com/notebooks/data_table.ipynb>data table notebook</a>'\n",
              "          + ' to learn more about interactive tables.';\n",
              "        element.innerHTML = '';\n",
              "        dataTable['output_type'] = 'display_data';\n",
              "        await google.colab.output.renderOutput(dataTable, element);\n",
              "        const docLink = document.createElement('div');\n",
              "        docLink.innerHTML = docLinkHtml;\n",
              "        element.appendChild(docLink);\n",
              "      }\n",
              "    </script>\n",
              "  </div>\n",
              "\n",
              "\n",
              "<div id=\"df-e6a59694-8a15-4037-a423-e21e4a70853c\">\n",
              "  <button class=\"colab-df-quickchart\" onclick=\"quickchart('df-e6a59694-8a15-4037-a423-e21e4a70853c')\"\n",
              "            title=\"Suggest charts\"\n",
              "            style=\"display:none;\">\n",
              "\n",
              "<svg xmlns=\"http://www.w3.org/2000/svg\" height=\"24px\"viewBox=\"0 0 24 24\"\n",
              "     width=\"24px\">\n",
              "    <g>\n",
              "        <path d=\"M19 3H5c-1.1 0-2 .9-2 2v14c0 1.1.9 2 2 2h14c1.1 0 2-.9 2-2V5c0-1.1-.9-2-2-2zM9 17H7v-7h2v7zm4 0h-2V7h2v10zm4 0h-2v-4h2v4z\"/>\n",
              "    </g>\n",
              "</svg>\n",
              "  </button>\n",
              "\n",
              "<style>\n",
              "  .colab-df-quickchart {\n",
              "      --bg-color: #E8F0FE;\n",
              "      --fill-color: #1967D2;\n",
              "      --hover-bg-color: #E2EBFA;\n",
              "      --hover-fill-color: #174EA6;\n",
              "      --disabled-fill-color: #AAA;\n",
              "      --disabled-bg-color: #DDD;\n",
              "  }\n",
              "\n",
              "  [theme=dark] .colab-df-quickchart {\n",
              "      --bg-color: #3B4455;\n",
              "      --fill-color: #D2E3FC;\n",
              "      --hover-bg-color: #434B5C;\n",
              "      --hover-fill-color: #FFFFFF;\n",
              "      --disabled-bg-color: #3B4455;\n",
              "      --disabled-fill-color: #666;\n",
              "  }\n",
              "\n",
              "  .colab-df-quickchart {\n",
              "    background-color: var(--bg-color);\n",
              "    border: none;\n",
              "    border-radius: 50%;\n",
              "    cursor: pointer;\n",
              "    display: none;\n",
              "    fill: var(--fill-color);\n",
              "    height: 32px;\n",
              "    padding: 0;\n",
              "    width: 32px;\n",
              "  }\n",
              "\n",
              "  .colab-df-quickchart:hover {\n",
              "    background-color: var(--hover-bg-color);\n",
              "    box-shadow: 0 1px 2px rgba(60, 64, 67, 0.3), 0 1px 3px 1px rgba(60, 64, 67, 0.15);\n",
              "    fill: var(--button-hover-fill-color);\n",
              "  }\n",
              "\n",
              "  .colab-df-quickchart-complete:disabled,\n",
              "  .colab-df-quickchart-complete:disabled:hover {\n",
              "    background-color: var(--disabled-bg-color);\n",
              "    fill: var(--disabled-fill-color);\n",
              "    box-shadow: none;\n",
              "  }\n",
              "\n",
              "  .colab-df-spinner {\n",
              "    border: 2px solid var(--fill-color);\n",
              "    border-color: transparent;\n",
              "    border-bottom-color: var(--fill-color);\n",
              "    animation:\n",
              "      spin 1s steps(1) infinite;\n",
              "  }\n",
              "\n",
              "  @keyframes spin {\n",
              "    0% {\n",
              "      border-color: transparent;\n",
              "      border-bottom-color: var(--fill-color);\n",
              "      border-left-color: var(--fill-color);\n",
              "    }\n",
              "    20% {\n",
              "      border-color: transparent;\n",
              "      border-left-color: var(--fill-color);\n",
              "      border-top-color: var(--fill-color);\n",
              "    }\n",
              "    30% {\n",
              "      border-color: transparent;\n",
              "      border-left-color: var(--fill-color);\n",
              "      border-top-color: var(--fill-color);\n",
              "      border-right-color: var(--fill-color);\n",
              "    }\n",
              "    40% {\n",
              "      border-color: transparent;\n",
              "      border-right-color: var(--fill-color);\n",
              "      border-top-color: var(--fill-color);\n",
              "    }\n",
              "    60% {\n",
              "      border-color: transparent;\n",
              "      border-right-color: var(--fill-color);\n",
              "    }\n",
              "    80% {\n",
              "      border-color: transparent;\n",
              "      border-right-color: var(--fill-color);\n",
              "      border-bottom-color: var(--fill-color);\n",
              "    }\n",
              "    90% {\n",
              "      border-color: transparent;\n",
              "      border-bottom-color: var(--fill-color);\n",
              "    }\n",
              "  }\n",
              "</style>\n",
              "\n",
              "  <script>\n",
              "    async function quickchart(key) {\n",
              "      const quickchartButtonEl =\n",
              "        document.querySelector('#' + key + ' button');\n",
              "      quickchartButtonEl.disabled = true;  // To prevent multiple clicks.\n",
              "      quickchartButtonEl.classList.add('colab-df-spinner');\n",
              "      try {\n",
              "        const charts = await google.colab.kernel.invokeFunction(\n",
              "            'suggestCharts', [key], {});\n",
              "      } catch (error) {\n",
              "        console.error('Error during call to suggestCharts:', error);\n",
              "      }\n",
              "      quickchartButtonEl.classList.remove('colab-df-spinner');\n",
              "      quickchartButtonEl.classList.add('colab-df-quickchart-complete');\n",
              "    }\n",
              "    (() => {\n",
              "      let quickchartButtonEl =\n",
              "        document.querySelector('#df-e6a59694-8a15-4037-a423-e21e4a70853c button');\n",
              "      quickchartButtonEl.style.display =\n",
              "        google.colab.kernel.accessAllowed ? 'block' : 'none';\n",
              "    })();\n",
              "  </script>\n",
              "</div>\n",
              "\n",
              "  <div id=\"id_e2125d9a-486e-4bab-950a-0dc5be834194\">\n",
              "    <style>\n",
              "      .colab-df-generate {\n",
              "        background-color: #E8F0FE;\n",
              "        border: none;\n",
              "        border-radius: 50%;\n",
              "        cursor: pointer;\n",
              "        display: none;\n",
              "        fill: #1967D2;\n",
              "        height: 32px;\n",
              "        padding: 0 0 0 0;\n",
              "        width: 32px;\n",
              "      }\n",
              "\n",
              "      .colab-df-generate:hover {\n",
              "        background-color: #E2EBFA;\n",
              "        box-shadow: 0px 1px 2px rgba(60, 64, 67, 0.3), 0px 1px 3px 1px rgba(60, 64, 67, 0.15);\n",
              "        fill: #174EA6;\n",
              "      }\n",
              "\n",
              "      [theme=dark] .colab-df-generate {\n",
              "        background-color: #3B4455;\n",
              "        fill: #D2E3FC;\n",
              "      }\n",
              "\n",
              "      [theme=dark] .colab-df-generate:hover {\n",
              "        background-color: #434B5C;\n",
              "        box-shadow: 0px 1px 3px 1px rgba(0, 0, 0, 0.15);\n",
              "        filter: drop-shadow(0px 1px 2px rgba(0, 0, 0, 0.3));\n",
              "        fill: #FFFFFF;\n",
              "      }\n",
              "    </style>\n",
              "    <button class=\"colab-df-generate\" onclick=\"generateWithVariable('data')\"\n",
              "            title=\"Generate code using this dataframe.\"\n",
              "            style=\"display:none;\">\n",
              "\n",
              "  <svg xmlns=\"http://www.w3.org/2000/svg\" height=\"24px\"viewBox=\"0 0 24 24\"\n",
              "       width=\"24px\">\n",
              "    <path d=\"M7,19H8.4L18.45,9,17,7.55,7,17.6ZM5,21V16.75L18.45,3.32a2,2,0,0,1,2.83,0l1.4,1.43a1.91,1.91,0,0,1,.58,1.4,1.91,1.91,0,0,1-.58,1.4L9.25,21ZM18.45,9,17,7.55Zm-12,3A5.31,5.31,0,0,0,4.9,8.1,5.31,5.31,0,0,0,1,6.5,5.31,5.31,0,0,0,4.9,4.9,5.31,5.31,0,0,0,6.5,1,5.31,5.31,0,0,0,8.1,4.9,5.31,5.31,0,0,0,12,6.5,5.46,5.46,0,0,0,6.5,12Z\"/>\n",
              "  </svg>\n",
              "    </button>\n",
              "    <script>\n",
              "      (() => {\n",
              "      const buttonEl =\n",
              "        document.querySelector('#id_e2125d9a-486e-4bab-950a-0dc5be834194 button.colab-df-generate');\n",
              "      buttonEl.style.display =\n",
              "        google.colab.kernel.accessAllowed ? 'block' : 'none';\n",
              "\n",
              "      buttonEl.onclick = () => {\n",
              "        google.colab.notebook.generateWithVariable('data');\n",
              "      }\n",
              "      })();\n",
              "    </script>\n",
              "  </div>\n",
              "\n",
              "    </div>\n",
              "  </div>\n"
            ],
            "application/vnd.google.colaboratory.intrinsic+json": {
              "type": "dataframe",
              "variable_name": "data"
            }
          },
          "metadata": {},
          "execution_count": 47
        }
      ]
    },
    {
      "cell_type": "markdown",
      "source": [
        "Here we can see that we do not have missing values for the 7 columns which are:\n",
        "\n",
        "* status (Housing status - 1 ready for sale or 0 ready to build)\n",
        "* bed (# of beds)\n",
        "* bath (# of bathrooms)\n",
        "* acre_lot (Property / Land size in acres)\n",
        "* zip_code (postal code of the area)\n",
        "* house_size (house area/size/living space in square feet)\n",
        "\n",
        "* price (Housing price, it is either the current listing price or recently sold price if the house is sold recently)"
      ],
      "metadata": {
        "id": "uIwZ6BF07S_V"
      }
    },
    {
      "cell_type": "code",
      "source": [
        "data.describe()"
      ],
      "metadata": {
        "colab": {
          "base_uri": "https://localhost:8080/",
          "height": 300
        },
        "id": "6d5vkRR1QdlP",
        "outputId": "19070ced-add0-44bb-fc2a-baa8bd79b619"
      },
      "execution_count": null,
      "outputs": [
        {
          "output_type": "execute_result",
          "data": {
            "text/plain": [
              "         status            bed           bath       acre_lot       zip_code  \\\n",
              "count  207480.0  207480.000000  207480.000000  207480.000000  207480.000000   \n",
              "mean        1.0       3.582875       2.711379      19.366481   20005.052810   \n",
              "std         0.0       1.359698       1.390016     995.410601    9561.411797   \n",
              "min         1.0       1.000000       1.000000       0.000000     601.000000   \n",
              "25%         1.0       3.000000       2.000000       0.140000   12182.000000   \n",
              "50%         1.0       3.000000       2.000000       0.280000   20653.000000   \n",
              "75%         1.0       4.000000       3.000000       0.750000   28748.000000   \n",
              "max         1.0      54.000000      43.000000  100000.000000   95652.000000   \n",
              "\n",
              "          house_size         price  \n",
              "count  207480.000000  2.074800e+05  \n",
              "mean     2285.290708  5.744305e+05  \n",
              "std      2109.109427  1.103338e+06  \n",
              "min       100.000000  1.000000e+00  \n",
              "25%      1404.000000  2.300000e+05  \n",
              "50%      1912.000000  3.650000e+05  \n",
              "75%      2670.000000  5.960000e+05  \n",
              "max    400149.000000  6.500000e+07  "
            ],
            "text/html": [
              "\n",
              "  <div id=\"df-afca5de7-a00e-4fb7-8193-584658538688\" class=\"colab-df-container\">\n",
              "    <div>\n",
              "<style scoped>\n",
              "    .dataframe tbody tr th:only-of-type {\n",
              "        vertical-align: middle;\n",
              "    }\n",
              "\n",
              "    .dataframe tbody tr th {\n",
              "        vertical-align: top;\n",
              "    }\n",
              "\n",
              "    .dataframe thead th {\n",
              "        text-align: right;\n",
              "    }\n",
              "</style>\n",
              "<table border=\"1\" class=\"dataframe\">\n",
              "  <thead>\n",
              "    <tr style=\"text-align: right;\">\n",
              "      <th></th>\n",
              "      <th>status</th>\n",
              "      <th>bed</th>\n",
              "      <th>bath</th>\n",
              "      <th>acre_lot</th>\n",
              "      <th>zip_code</th>\n",
              "      <th>house_size</th>\n",
              "      <th>price</th>\n",
              "    </tr>\n",
              "  </thead>\n",
              "  <tbody>\n",
              "    <tr>\n",
              "      <th>count</th>\n",
              "      <td>207480.0</td>\n",
              "      <td>207480.000000</td>\n",
              "      <td>207480.000000</td>\n",
              "      <td>207480.000000</td>\n",
              "      <td>207480.000000</td>\n",
              "      <td>207480.000000</td>\n",
              "      <td>2.074800e+05</td>\n",
              "    </tr>\n",
              "    <tr>\n",
              "      <th>mean</th>\n",
              "      <td>1.0</td>\n",
              "      <td>3.582875</td>\n",
              "      <td>2.711379</td>\n",
              "      <td>19.366481</td>\n",
              "      <td>20005.052810</td>\n",
              "      <td>2285.290708</td>\n",
              "      <td>5.744305e+05</td>\n",
              "    </tr>\n",
              "    <tr>\n",
              "      <th>std</th>\n",
              "      <td>0.0</td>\n",
              "      <td>1.359698</td>\n",
              "      <td>1.390016</td>\n",
              "      <td>995.410601</td>\n",
              "      <td>9561.411797</td>\n",
              "      <td>2109.109427</td>\n",
              "      <td>1.103338e+06</td>\n",
              "    </tr>\n",
              "    <tr>\n",
              "      <th>min</th>\n",
              "      <td>1.0</td>\n",
              "      <td>1.000000</td>\n",
              "      <td>1.000000</td>\n",
              "      <td>0.000000</td>\n",
              "      <td>601.000000</td>\n",
              "      <td>100.000000</td>\n",
              "      <td>1.000000e+00</td>\n",
              "    </tr>\n",
              "    <tr>\n",
              "      <th>25%</th>\n",
              "      <td>1.0</td>\n",
              "      <td>3.000000</td>\n",
              "      <td>2.000000</td>\n",
              "      <td>0.140000</td>\n",
              "      <td>12182.000000</td>\n",
              "      <td>1404.000000</td>\n",
              "      <td>2.300000e+05</td>\n",
              "    </tr>\n",
              "    <tr>\n",
              "      <th>50%</th>\n",
              "      <td>1.0</td>\n",
              "      <td>3.000000</td>\n",
              "      <td>2.000000</td>\n",
              "      <td>0.280000</td>\n",
              "      <td>20653.000000</td>\n",
              "      <td>1912.000000</td>\n",
              "      <td>3.650000e+05</td>\n",
              "    </tr>\n",
              "    <tr>\n",
              "      <th>75%</th>\n",
              "      <td>1.0</td>\n",
              "      <td>4.000000</td>\n",
              "      <td>3.000000</td>\n",
              "      <td>0.750000</td>\n",
              "      <td>28748.000000</td>\n",
              "      <td>2670.000000</td>\n",
              "      <td>5.960000e+05</td>\n",
              "    </tr>\n",
              "    <tr>\n",
              "      <th>max</th>\n",
              "      <td>1.0</td>\n",
              "      <td>54.000000</td>\n",
              "      <td>43.000000</td>\n",
              "      <td>100000.000000</td>\n",
              "      <td>95652.000000</td>\n",
              "      <td>400149.000000</td>\n",
              "      <td>6.500000e+07</td>\n",
              "    </tr>\n",
              "  </tbody>\n",
              "</table>\n",
              "</div>\n",
              "    <div class=\"colab-df-buttons\">\n",
              "\n",
              "  <div class=\"colab-df-container\">\n",
              "    <button class=\"colab-df-convert\" onclick=\"convertToInteractive('df-afca5de7-a00e-4fb7-8193-584658538688')\"\n",
              "            title=\"Convert this dataframe to an interactive table.\"\n",
              "            style=\"display:none;\">\n",
              "\n",
              "  <svg xmlns=\"http://www.w3.org/2000/svg\" height=\"24px\" viewBox=\"0 -960 960 960\">\n",
              "    <path d=\"M120-120v-720h720v720H120Zm60-500h600v-160H180v160Zm220 220h160v-160H400v160Zm0 220h160v-160H400v160ZM180-400h160v-160H180v160Zm440 0h160v-160H620v160ZM180-180h160v-160H180v160Zm440 0h160v-160H620v160Z\"/>\n",
              "  </svg>\n",
              "    </button>\n",
              "\n",
              "  <style>\n",
              "    .colab-df-container {\n",
              "      display:flex;\n",
              "      gap: 12px;\n",
              "    }\n",
              "\n",
              "    .colab-df-convert {\n",
              "      background-color: #E8F0FE;\n",
              "      border: none;\n",
              "      border-radius: 50%;\n",
              "      cursor: pointer;\n",
              "      display: none;\n",
              "      fill: #1967D2;\n",
              "      height: 32px;\n",
              "      padding: 0 0 0 0;\n",
              "      width: 32px;\n",
              "    }\n",
              "\n",
              "    .colab-df-convert:hover {\n",
              "      background-color: #E2EBFA;\n",
              "      box-shadow: 0px 1px 2px rgba(60, 64, 67, 0.3), 0px 1px 3px 1px rgba(60, 64, 67, 0.15);\n",
              "      fill: #174EA6;\n",
              "    }\n",
              "\n",
              "    .colab-df-buttons div {\n",
              "      margin-bottom: 4px;\n",
              "    }\n",
              "\n",
              "    [theme=dark] .colab-df-convert {\n",
              "      background-color: #3B4455;\n",
              "      fill: #D2E3FC;\n",
              "    }\n",
              "\n",
              "    [theme=dark] .colab-df-convert:hover {\n",
              "      background-color: #434B5C;\n",
              "      box-shadow: 0px 1px 3px 1px rgba(0, 0, 0, 0.15);\n",
              "      filter: drop-shadow(0px 1px 2px rgba(0, 0, 0, 0.3));\n",
              "      fill: #FFFFFF;\n",
              "    }\n",
              "  </style>\n",
              "\n",
              "    <script>\n",
              "      const buttonEl =\n",
              "        document.querySelector('#df-afca5de7-a00e-4fb7-8193-584658538688 button.colab-df-convert');\n",
              "      buttonEl.style.display =\n",
              "        google.colab.kernel.accessAllowed ? 'block' : 'none';\n",
              "\n",
              "      async function convertToInteractive(key) {\n",
              "        const element = document.querySelector('#df-afca5de7-a00e-4fb7-8193-584658538688');\n",
              "        const dataTable =\n",
              "          await google.colab.kernel.invokeFunction('convertToInteractive',\n",
              "                                                    [key], {});\n",
              "        if (!dataTable) return;\n",
              "\n",
              "        const docLinkHtml = 'Like what you see? Visit the ' +\n",
              "          '<a target=\"_blank\" href=https://colab.research.google.com/notebooks/data_table.ipynb>data table notebook</a>'\n",
              "          + ' to learn more about interactive tables.';\n",
              "        element.innerHTML = '';\n",
              "        dataTable['output_type'] = 'display_data';\n",
              "        await google.colab.output.renderOutput(dataTable, element);\n",
              "        const docLink = document.createElement('div');\n",
              "        docLink.innerHTML = docLinkHtml;\n",
              "        element.appendChild(docLink);\n",
              "      }\n",
              "    </script>\n",
              "  </div>\n",
              "\n",
              "\n",
              "<div id=\"df-c4d0d24d-8379-4c36-8f24-1a3e3ea90122\">\n",
              "  <button class=\"colab-df-quickchart\" onclick=\"quickchart('df-c4d0d24d-8379-4c36-8f24-1a3e3ea90122')\"\n",
              "            title=\"Suggest charts\"\n",
              "            style=\"display:none;\">\n",
              "\n",
              "<svg xmlns=\"http://www.w3.org/2000/svg\" height=\"24px\"viewBox=\"0 0 24 24\"\n",
              "     width=\"24px\">\n",
              "    <g>\n",
              "        <path d=\"M19 3H5c-1.1 0-2 .9-2 2v14c0 1.1.9 2 2 2h14c1.1 0 2-.9 2-2V5c0-1.1-.9-2-2-2zM9 17H7v-7h2v7zm4 0h-2V7h2v10zm4 0h-2v-4h2v4z\"/>\n",
              "    </g>\n",
              "</svg>\n",
              "  </button>\n",
              "\n",
              "<style>\n",
              "  .colab-df-quickchart {\n",
              "      --bg-color: #E8F0FE;\n",
              "      --fill-color: #1967D2;\n",
              "      --hover-bg-color: #E2EBFA;\n",
              "      --hover-fill-color: #174EA6;\n",
              "      --disabled-fill-color: #AAA;\n",
              "      --disabled-bg-color: #DDD;\n",
              "  }\n",
              "\n",
              "  [theme=dark] .colab-df-quickchart {\n",
              "      --bg-color: #3B4455;\n",
              "      --fill-color: #D2E3FC;\n",
              "      --hover-bg-color: #434B5C;\n",
              "      --hover-fill-color: #FFFFFF;\n",
              "      --disabled-bg-color: #3B4455;\n",
              "      --disabled-fill-color: #666;\n",
              "  }\n",
              "\n",
              "  .colab-df-quickchart {\n",
              "    background-color: var(--bg-color);\n",
              "    border: none;\n",
              "    border-radius: 50%;\n",
              "    cursor: pointer;\n",
              "    display: none;\n",
              "    fill: var(--fill-color);\n",
              "    height: 32px;\n",
              "    padding: 0;\n",
              "    width: 32px;\n",
              "  }\n",
              "\n",
              "  .colab-df-quickchart:hover {\n",
              "    background-color: var(--hover-bg-color);\n",
              "    box-shadow: 0 1px 2px rgba(60, 64, 67, 0.3), 0 1px 3px 1px rgba(60, 64, 67, 0.15);\n",
              "    fill: var(--button-hover-fill-color);\n",
              "  }\n",
              "\n",
              "  .colab-df-quickchart-complete:disabled,\n",
              "  .colab-df-quickchart-complete:disabled:hover {\n",
              "    background-color: var(--disabled-bg-color);\n",
              "    fill: var(--disabled-fill-color);\n",
              "    box-shadow: none;\n",
              "  }\n",
              "\n",
              "  .colab-df-spinner {\n",
              "    border: 2px solid var(--fill-color);\n",
              "    border-color: transparent;\n",
              "    border-bottom-color: var(--fill-color);\n",
              "    animation:\n",
              "      spin 1s steps(1) infinite;\n",
              "  }\n",
              "\n",
              "  @keyframes spin {\n",
              "    0% {\n",
              "      border-color: transparent;\n",
              "      border-bottom-color: var(--fill-color);\n",
              "      border-left-color: var(--fill-color);\n",
              "    }\n",
              "    20% {\n",
              "      border-color: transparent;\n",
              "      border-left-color: var(--fill-color);\n",
              "      border-top-color: var(--fill-color);\n",
              "    }\n",
              "    30% {\n",
              "      border-color: transparent;\n",
              "      border-left-color: var(--fill-color);\n",
              "      border-top-color: var(--fill-color);\n",
              "      border-right-color: var(--fill-color);\n",
              "    }\n",
              "    40% {\n",
              "      border-color: transparent;\n",
              "      border-right-color: var(--fill-color);\n",
              "      border-top-color: var(--fill-color);\n",
              "    }\n",
              "    60% {\n",
              "      border-color: transparent;\n",
              "      border-right-color: var(--fill-color);\n",
              "    }\n",
              "    80% {\n",
              "      border-color: transparent;\n",
              "      border-right-color: var(--fill-color);\n",
              "      border-bottom-color: var(--fill-color);\n",
              "    }\n",
              "    90% {\n",
              "      border-color: transparent;\n",
              "      border-bottom-color: var(--fill-color);\n",
              "    }\n",
              "  }\n",
              "</style>\n",
              "\n",
              "  <script>\n",
              "    async function quickchart(key) {\n",
              "      const quickchartButtonEl =\n",
              "        document.querySelector('#' + key + ' button');\n",
              "      quickchartButtonEl.disabled = true;  // To prevent multiple clicks.\n",
              "      quickchartButtonEl.classList.add('colab-df-spinner');\n",
              "      try {\n",
              "        const charts = await google.colab.kernel.invokeFunction(\n",
              "            'suggestCharts', [key], {});\n",
              "      } catch (error) {\n",
              "        console.error('Error during call to suggestCharts:', error);\n",
              "      }\n",
              "      quickchartButtonEl.classList.remove('colab-df-spinner');\n",
              "      quickchartButtonEl.classList.add('colab-df-quickchart-complete');\n",
              "    }\n",
              "    (() => {\n",
              "      let quickchartButtonEl =\n",
              "        document.querySelector('#df-c4d0d24d-8379-4c36-8f24-1a3e3ea90122 button');\n",
              "      quickchartButtonEl.style.display =\n",
              "        google.colab.kernel.accessAllowed ? 'block' : 'none';\n",
              "    })();\n",
              "  </script>\n",
              "</div>\n",
              "\n",
              "    </div>\n",
              "  </div>\n"
            ],
            "application/vnd.google.colaboratory.intrinsic+json": {
              "type": "dataframe",
              "summary": "{\n  \"name\": \"data\",\n  \"rows\": 8,\n  \"fields\": [\n    {\n      \"column\": \"status\",\n      \"properties\": {\n        \"dtype\": \"number\",\n        \"std\": 73354.9544353637,\n        \"min\": 0.0,\n        \"max\": 207480.0,\n        \"num_unique_values\": 3,\n        \"samples\": [\n          207480.0,\n          1.0,\n          0.0\n        ],\n        \"semantic_type\": \"\",\n        \"description\": \"\"\n      }\n    },\n    {\n      \"column\": \"bed\",\n      \"properties\": {\n        \"dtype\": \"number\",\n        \"std\": 73351.72705424741,\n        \"min\": 1.0,\n        \"max\": 207480.0,\n        \"num_unique_values\": 7,\n        \"samples\": [\n          207480.0,\n          3.582875457875458,\n          4.0\n        ],\n        \"semantic_type\": \"\",\n        \"description\": \"\"\n      }\n    },\n    {\n      \"column\": \"bath\",\n      \"properties\": {\n        \"dtype\": \"number\",\n        \"std\": 73352.47584425274,\n        \"min\": 1.0,\n        \"max\": 207480.0,\n        \"num_unique_values\": 7,\n        \"samples\": [\n          207480.0,\n          2.7113794100636204,\n          3.0\n        ],\n        \"semantic_type\": \"\",\n        \"description\": \"\"\n      }\n    },\n    {\n      \"column\": \"acre_lot\",\n      \"properties\": {\n        \"dtype\": \"number\",\n        \"std\": 76674.37916952345,\n        \"min\": 0.0,\n        \"max\": 207480.0,\n        \"num_unique_values\": 8,\n        \"samples\": [\n          19.36648110661268,\n          0.28,\n          207480.0\n        ],\n        \"semantic_type\": \"\",\n        \"description\": \"\"\n      }\n    },\n    {\n      \"column\": \"zip_code\",\n      \"properties\": {\n        \"dtype\": \"number\",\n        \"std\": 70304.55621155702,\n        \"min\": 601.0,\n        \"max\": 207480.0,\n        \"num_unique_values\": 8,\n        \"samples\": [\n          20005.05280990939,\n          20653.0,\n          207480.0\n        ],\n        \"semantic_type\": \"\",\n        \"description\": \"\"\n      }\n    },\n    {\n      \"column\": \"house_size\",\n      \"properties\": {\n        \"dtype\": \"number\",\n        \"std\": 149012.0827029903,\n        \"min\": 100.0,\n        \"max\": 400149.0,\n        \"num_unique_values\": 8,\n        \"samples\": [\n          2285.290707538076,\n          1912.0,\n          207480.0\n        ],\n        \"semantic_type\": \"\",\n        \"description\": \"\"\n      }\n    },\n    {\n      \"column\": \"price\",\n      \"properties\": {\n        \"dtype\": \"number\",\n        \"std\": 22828036.48513517,\n        \"min\": 1.0,\n        \"max\": 65000000.0,\n        \"num_unique_values\": 8,\n        \"samples\": [\n          574430.4722672065,\n          365000.0,\n          207480.0\n        ],\n        \"semantic_type\": \"\",\n        \"description\": \"\"\n      }\n    }\n  ]\n}"
            }
          },
          "metadata": {},
          "execution_count": 48
        }
      ]
    },
    {
      "cell_type": "code",
      "source": [
        "#Missing Values\n",
        "\n",
        "data.isnull().sum()"
      ],
      "metadata": {
        "colab": {
          "base_uri": "https://localhost:8080/"
        },
        "id": "37gLFR57W00D",
        "outputId": "1bbd683c-febb-4e0c-8080-b9b75aadfb66"
      },
      "execution_count": null,
      "outputs": [
        {
          "output_type": "execute_result",
          "data": {
            "text/plain": [
              "status        0\n",
              "bed           0\n",
              "bath          0\n",
              "acre_lot      0\n",
              "zip_code      0\n",
              "house_size    0\n",
              "price         0\n",
              "dtype: int64"
            ]
          },
          "metadata": {},
          "execution_count": 49
        }
      ]
    },
    {
      "cell_type": "markdown",
      "source": [
        "As we can see there are not missing values, so we can continue with the Machine Learning Models."
      ],
      "metadata": {
        "id": "IrV0swG9W6uu"
      }
    },
    {
      "cell_type": "code",
      "source": [
        "sns.heatmap(data=data.corr(),cmap='RdBu',linewidth=5,annot=True,vmin=-1,vmax=1)\n",
        "plt.title('Correlation')\n",
        "plt.show()"
      ],
      "metadata": {
        "colab": {
          "base_uri": "https://localhost:8080/",
          "height": 514
        },
        "id": "ugFavecW3Rwm",
        "outputId": "349d626c-d6f1-4b1b-835f-eaa154e8a3de"
      },
      "execution_count": null,
      "outputs": [
        {
          "output_type": "display_data",
          "data": {
            "text/plain": [
              "<Figure size 640x480 with 2 Axes>"
            ],
            "image/png": "[encoded data removed]"
          },
          "metadata": {}
        }
      ]
    },
    {
      "cell_type": "markdown",
      "source": [
        "With this plot we can easily see that exists a direct relation between price and number of bath, this will be useful in our model."
      ],
      "metadata": {
        "id": "zB7geD7134gE"
      }
    },
    {
      "cell_type": "markdown",
      "source": [
        "## 1. KNN\n",
        "\n",
        "KNN (K-Nearest Neighbors) is a machine learning algorithm that predicts the classification or value of a new data point by considering the majority class or average value of its nearest neighbors in the feature space.\n"
      ],
      "metadata": {
        "id": "TVyiETyU8Rgd"
      }
    },
    {
      "cell_type": "markdown",
      "source": [
        "The first step is to split data, it is necessary to separate the price from the others variables."
      ],
      "metadata": {
        "id": "pzv7OWMmUBVa"
      }
    },
    {
      "cell_type": "code",
      "source": [
        "X = data.drop(['price','status'],axis=1)\n",
        "y = data['price']"
      ],
      "metadata": {
        "id": "ACDydLJfnOH5"
      },
      "execution_count": null,
      "outputs": []
    },
    {
      "cell_type": "markdown",
      "source": [
        "For the test and train the variables used are:\n",
        "\n",
        "* Bed\n",
        "* Bath\n",
        "* acre_lot\n",
        "* zip_code\n",
        "* house_size"
      ],
      "metadata": {
        "id": "VFs8K9h4dJnw"
      }
    },
    {
      "cell_type": "markdown",
      "source": [
        "Then we need to split data in training and test data, 80% for trining data and 20% for test data."
      ],
      "metadata": {
        "id": "l_aPSwWejJg4"
      }
    },
    {
      "cell_type": "code",
      "source": [
        "from sklearn.model_selection import train_test_split\n",
        "\n",
        "X_train, X_test, y_train, y_test = train_test_split(X, y, test_size=0.2, random_state=42)"
      ],
      "metadata": {
        "id": "sM7hh-L9ZA0Z"
      },
      "execution_count": null,
      "outputs": []
    },
    {
      "cell_type": "code",
      "source": [
        "from sklearn.neighbors import KNeighborsRegressor\n",
        "from sklearn.metrics import mean_squared_error, r2_score\n",
        "\n",
        "# Initialize kNN classifier\n",
        "knn = KNeighborsRegressor(n_neighbors=10)\n",
        "\n",
        "# Train the classifier on the scaled training data\n",
        "knn.fit(X_train, y_train)\n",
        "\n",
        "# Predict on the scaled test data\n",
        "y_pred = knn.predict(X_test)\n",
        "\n",
        "mse_knn = mean_squared_error(y_test, y_pred)\n",
        "r2_knn = r2_score(y_test, y_pred)\n",
        "\n",
        "print(\"RMSE for KNN : \", round(np.sqrt(mse_knn),2))\n",
        "print(\"R2 for KNN   : \", round(r2_knn,4))"
      ],
      "metadata": {
        "colab": {
          "base_uri": "https://localhost:8080/"
        },
        "id": "YtQ5FeXnhApG",
        "outputId": "d2a145a8-7a7a-4ca9-fa7c-4f1ac19f84a5"
      },
      "execution_count": null,
      "outputs": [
        {
          "output_type": "stream",
          "name": "stdout",
          "text": [
            "RMSE for KNN :  869620.71\n",
            "R2 for KNN   :  0.4518\n"
          ]
        }
      ]
    },
    {
      "cell_type": "markdown",
      "source": [
        "## 2. Random Forest Regression\n",
        "\n",
        "Random Forest Regression is an ensemble learning technique used for regression tasks. It builds multiple decision trees during training and averages their predictions to reduce overfitting and improve accuracy. Each tree is trained on a random subset of the training data and a random subset of features, resulting in a robust and flexible model capable of handling non-linear relationships and high-dimensional data."
      ],
      "metadata": {
        "id": "Mse8hBqH1qMB"
      }
    },
    {
      "cell_type": "code",
      "source": [
        "X = data.drop(['price','status'],axis=1)\n",
        "y = data['price']\n",
        "\n",
        "X_train, X_test, y_train, y_test_rf = train_test_split(X, y, test_size=0.2, random_state=42)"
      ],
      "metadata": {
        "id": "WpxeYQgma3Rl"
      },
      "execution_count": null,
      "outputs": []
    },
    {
      "cell_type": "code",
      "source": [
        "from sklearn.ensemble import RandomForestRegressor\n",
        "\n",
        "rf_regressor = RandomForestRegressor()\n",
        "rf_regressor.fit(X_train, y_train)\n",
        "predictions = rf_regressor.predict(X_test)\n",
        "y_pred_rf = rf_regressor.predict(X_test)\n",
        "\n",
        "rf_score = r2_score(y_test_rf, y_pred_rf)\n",
        "mse_rf = mean_squared_error(y_test_rf, y_pred_rf)\n",
        "\n",
        "print(\"RMSE : \", round(np.sqrt(mse_rf),2))\n",
        "print('R2   : ',round(rf_score,4))"
      ],
      "metadata": {
        "colab": {
          "base_uri": "https://localhost:8080/"
        },
        "id": "Qs_KD-2W16Ys",
        "outputId": "6c74cc39-aebd-46bd-c8fe-fc410349d3f2"
      },
      "execution_count": null,
      "outputs": [
        {
          "output_type": "stream",
          "name": "stdout",
          "text": [
            "RMSE :  726536.2\n",
            "R2   :  0.6173\n"
          ]
        }
      ]
    },
    {
      "cell_type": "markdown",
      "source": [
        "## 3. Linnear Regression\n",
        "\n",
        "This method models the relationship between a dependent variable and one or more independent variables by fitting a linear equation to observed data."
      ],
      "metadata": {
        "id": "bKdBzl26Isju"
      }
    },
    {
      "cell_type": "markdown",
      "source": [
        "In this case the data is divided by number of beds in the house in differents data frames and by house size, in order to avoid outliers."
      ],
      "metadata": {
        "id": "ByVGXODRJzP1"
      }
    },
    {
      "cell_type": "code",
      "source": [
        "plt.figure(figsize=(10,5))\n",
        "plt.hist(data['bed'], bins=60)\n",
        "plt.title('Number of Beds')\n",
        "plt.grid()\n",
        "plt.show()"
      ],
      "metadata": {
        "colab": {
          "base_uri": "https://localhost:8080/",
          "height": 468
        },
        "id": "8byBxyHPsDyR",
        "outputId": "e3fe75c5-a1a4-4d90-bf96-a72f046ef947"
      },
      "execution_count": null,
      "outputs": [
        {
          "output_type": "display_data",
          "data": {
            "text/plain": [
              "<Figure size 1000x500 with 1 Axes>"
            ],
            "image/png": "[encoded data removed]"
          },
          "metadata": {}
        }
      ]
    },
    {
      "cell_type": "code",
      "source": [
        "bt = [3,5,8,10,12,17,20]\n",
        "\n",
        "df1 = data[data['bed'] == 1]\n",
        "dfb1 = df1[df1['house_size'] <= np.mean(df1['house_size'])]\n",
        "dfb2 = df1[df1['house_size'] > np.mean(df1['house_size'])]\n",
        "df2 = data[data['bed'] == 2]\n",
        "dfb3 = df2[df2['house_size'] <= np.mean(df2['house_size'])]\n",
        "dfb4 = df2[df2['house_size'] > np.mean(df2['house_size'])]\n",
        "dfb5 = data[(data['bed'] > 2) & (data['bed'] <= 4)]\n",
        "dfb6 = data[(data['bed'] > 4) & (data['bed'] <= 5)]\n",
        "dfb7 = data[(data['bed'] > 5) & (data['bed'] <= 8)]\n",
        "dfb8 = data[(data['bed'] > 8) & (data['bed'] <= 11)]\n",
        "dfb9 = data[(data['bed'] > 11) & (data['bed'] <= 20)]\n",
        "dfb10 = data[data['bed'] > 20]"
      ],
      "metadata": {
        "id": "q4lo3XF32PfZ"
      },
      "execution_count": null,
      "outputs": []
    },
    {
      "cell_type": "code",
      "source": [
        "from sklearn.linear_model import LinearRegression\n",
        "\n",
        "rmse = []\n",
        "r2 = []\n",
        "LM = []\n",
        "\n",
        "for i in range(10):\n",
        "\n",
        "  X = globals()['dfb'+str(i+1)].drop(['price','status'],axis=1)\n",
        "  y = globals()['dfb'+str(i+1)]['price']\n",
        "\n",
        "  X_train, X_test, y_train, y_test = train_test_split(X, y, test_size=0.2, random_state=42)\n",
        "\n",
        "  # Train the classifier on the scaled training data\n",
        "  lm = LinearRegression()\n",
        "  lm.fit(X_train, y_train)\n",
        "  preds = lm.predict(X_test)\n",
        "\n",
        "\n",
        "  mse_ln = mean_squared_error(y_test, preds)\n",
        "  r2_ln = r2_score(y_test,preds)\n",
        "  lm_ln = lm.score(X_test,y_test)\n",
        "\n",
        "  rmse.append(np.sqrt(mse_ln))\n",
        "  r2.append(r2_ln)\n",
        "  LM.append(lm_ln)"
      ],
      "metadata": {
        "id": "kmR6RyRCCSne"
      },
      "execution_count": null,
      "outputs": []
    },
    {
      "cell_type": "code",
      "source": [
        "for i in range(10):\n",
        "  print('\\nDataset '+str(i+1))\n",
        "  print('RMSE = '+str(round(rmse[i],2)))\n",
        "  print('R2   = '+str(round(r2[i],3)))"
      ],
      "metadata": {
        "colab": {
          "base_uri": "https://localhost:8080/"
        },
        "id": "DU1ia9XuD_OK",
        "outputId": "2762b129-09a1-47fa-ac7e-877d7a93f6cd"
      },
      "execution_count": null,
      "outputs": [
        {
          "output_type": "stream",
          "name": "stdout",
          "text": [
            "\n",
            "Dataset 1\n",
            "RMSE = 355821.12\n",
            "R2   = 0.063\n",
            "\n",
            "Dataset 2\n",
            "RMSE = 702258.56\n",
            "R2   = 0.271\n",
            "\n",
            "Dataset 3\n",
            "RMSE = 249168.24\n",
            "R2   = 0.102\n",
            "\n",
            "Dataset 4\n",
            "RMSE = 515830.7\n",
            "R2   = 0.086\n",
            "\n",
            "Dataset 5\n",
            "RMSE = 524257.23\n",
            "R2   = 0.207\n",
            "\n",
            "Dataset 6\n",
            "RMSE = 1337970.42\n",
            "R2   = 0.248\n",
            "\n",
            "Dataset 7\n",
            "RMSE = 2519518.14\n",
            "R2   = 0.336\n",
            "\n",
            "Dataset 8\n",
            "RMSE = 2779417.06\n",
            "R2   = 0.405\n",
            "\n",
            "Dataset 9\n",
            "RMSE = 5254063.17\n",
            "R2   = 0.313\n",
            "\n",
            "Dataset 10\n",
            "RMSE = 4518202.15\n",
            "R2   = 0.656\n"
          ]
        }
      ]
    },
    {
      "cell_type": "markdown",
      "source": [
        "It is important to mention that after split the data it helps to get a better prediction in most of the cases and it was very useful in some cases."
      ],
      "metadata": {
        "id": "ISxp1SuGws81"
      }
    },
    {
      "cell_type": "markdown",
      "source": [
        "## Comparation\n",
        "\n",
        "After comparing the different machine learning methods KNN, Random Forest, Linear Regression the $R^2$ error is the next"
      ],
      "metadata": {
        "id": "V72wXebYv5PN"
      }
    },
    {
      "cell_type": "code",
      "source": [
        "plt.bar(['KNN','Random Forest','LR (Max value)'],[r2_knn,rf_score,max(r2)])\n",
        "plt.title('R2 error comparation')\n",
        "plt.ylabel('R2 value')\n",
        "plt.ylim(0,1)\n",
        "plt.show()"
      ],
      "metadata": {
        "colab": {
          "base_uri": "https://localhost:8080/",
          "height": 452
        },
        "id": "eoe4fo1AwMYP",
        "outputId": "8efde84c-81ea-4a3c-fa77-e5cb1a79a06b"
      },
      "execution_count": null,
      "outputs": [
        {
          "output_type": "display_data",
          "data": {
            "text/plain": [
              "<Figure size 640x480 with 1 Axes>"
            ],
            "image/png": "[encoded data removed]"
          },
          "metadata": {}
        }
      ]
    },
    {
      "cell_type": "markdown",
      "source": [
        "The best model for this data is **Random Forest** because the error was the best for all the data, but we got a better prediction for some cases with a Linear Regression.\n",
        "\n",
        "Unfortunately due the great outliers in the data it is not easy to get a good prediction it would be better to use other IA techniques like Neural Networks."
      ],
      "metadata": {
        "id": "mysPEsBayXUW"
      }
    },
    {
      "cell_type": "code",
      "source": [
        "l = 20\n",
        "\n",
        "plt.figure(figsize=(10,5))\n",
        "plt.plot(y_pred_rf[l:l+200],label='Prediction')\n",
        "plt.plot(list(y_test_rf)[l:l+200],label='Real Price')\n",
        "plt.title('Prediction vs Real Price | Random Forest')\n",
        "plt.ylabel('Price')\n",
        "plt.xlabel('')\n",
        "plt.legend(loc=1)\n",
        "plt.grid()\n",
        "plt.show()"
      ],
      "metadata": {
        "colab": {
          "base_uri": "https://localhost:8080/",
          "height": 468
        },
        "id": "xc7lCeE4z1Qi",
        "outputId": "3b43b12d-0b1f-4847-a1fd-4a6b9005e956"
      },
      "execution_count": null,
      "outputs": [
        {
          "output_type": "display_data",
          "data": {
            "text/plain": [
              "<Figure size 1000x500 with 1 Axes>"
            ],
            "image/png": "[encoded data removed]"
          },
          "metadata": {}
        }
      ]
    },
    {
      "cell_type": "markdown",
      "source": [
        "This is an example of 200 cases of Random Forest Price prediction, we can easily see that the prediction in some cases is quite good and effective.\n",
        "\n",
        "Also the Boxplot shows that the values of the prediction and real prices are very similar for this sample.\n",
        "\n",
        "Note : It was taken a sample because it is easier to visualize few outliers."
      ],
      "metadata": {
        "id": "5zPZcEj51WKp"
      }
    },
    {
      "cell_type": "code",
      "source": [
        "fig, ax = plt.subplots(figsize=(5,3))\n",
        "ax.boxplot([y_pred_rf[l:l+200],list(y_test_rf)[l:l+200]])#,label='Real Price')\n",
        "ax.set_title('Prediction vs Real Price | Random Forest')\n",
        "ax.set_ylabel('Price')\n",
        "ax.set_xticklabels(['Prediction', 'Real Price'])\n",
        "plt.grid()\n",
        "plt.show()"
      ],
      "metadata": {
        "colab": {
          "base_uri": "https://localhost:8080/",
          "height": 491
        },
        "id": "T4udyJjf1sw1",
        "outputId": "f803a9c0-ce6f-47f0-ea7c-73ce726a30f5"
      },
      "execution_count": 3,
      "outputs": [
        {
          "output_type": "error",
          "ename": "NameError",
          "evalue": "name 'y_pred_rf' is not defined",
          "traceback": [
            "\u001b[0;31m---------------------------------------------------------------------------\u001b[0m",
            "\u001b[0;31mNameError\u001b[0m                                 Traceback (most recent call last)",
            "\u001b[0;32m<ipython-input-3-7d8ebd446bac>\u001b[0m in \u001b[0;36m<cell line: 2>\u001b[0;34m()\u001b[0m\n\u001b[1;32m      1\u001b[0m \u001b[0mfig\u001b[0m\u001b[0;34m,\u001b[0m \u001b[0max\u001b[0m \u001b[0;34m=\u001b[0m \u001b[0mplt\u001b[0m\u001b[0;34m.\u001b[0m\u001b[0msubplots\u001b[0m\u001b[0;34m(\u001b[0m\u001b[0mfigsize\u001b[0m\u001b[0;34m=\u001b[0m\u001b[0;34m(\u001b[0m\u001b[0;36m5\u001b[0m\u001b[0;34m,\u001b[0m\u001b[0;36m3\u001b[0m\u001b[0;34m)\u001b[0m\u001b[0;34m)\u001b[0m\u001b[0;34m\u001b[0m\u001b[0;34m\u001b[0m\u001b[0m\n\u001b[0;32m----> 2\u001b[0;31m \u001b[0max\u001b[0m\u001b[0;34m.\u001b[0m\u001b[0mboxplot\u001b[0m\u001b[0;34m(\u001b[0m\u001b[0;34m[\u001b[0m\u001b[0my_pred_rf\u001b[0m\u001b[0;34m[\u001b[0m\u001b[0ml\u001b[0m\u001b[0;34m:\u001b[0m\u001b[0ml\u001b[0m\u001b[0;34m+\u001b[0m\u001b[0;36m200\u001b[0m\u001b[0;34m]\u001b[0m\u001b[0;34m,\u001b[0m\u001b[0mlist\u001b[0m\u001b[0;34m(\u001b[0m\u001b[0my_test_rf\u001b[0m\u001b[0;34m)\u001b[0m\u001b[0;34m[\u001b[0m\u001b[0ml\u001b[0m\u001b[0;34m:\u001b[0m\u001b[0ml\u001b[0m\u001b[0;34m+\u001b[0m\u001b[0;36m200\u001b[0m\u001b[0;34m]\u001b[0m\u001b[0;34m]\u001b[0m\u001b[0;34m)\u001b[0m\u001b[0;31m#,label='Real Price')\u001b[0m\u001b[0;34m\u001b[0m\u001b[0;34m\u001b[0m\u001b[0m\n\u001b[0m\u001b[1;32m      3\u001b[0m \u001b[0max\u001b[0m\u001b[0;34m.\u001b[0m\u001b[0mset_title\u001b[0m\u001b[0;34m(\u001b[0m\u001b[0;34m'Prediction vs Real Price | Random Forest'\u001b[0m\u001b[0;34m)\u001b[0m\u001b[0;34m\u001b[0m\u001b[0;34m\u001b[0m\u001b[0m\n\u001b[1;32m      4\u001b[0m \u001b[0max\u001b[0m\u001b[0;34m.\u001b[0m\u001b[0mset_ylabel\u001b[0m\u001b[0;34m(\u001b[0m\u001b[0;34m'Price'\u001b[0m\u001b[0;34m)\u001b[0m\u001b[0;34m\u001b[0m\u001b[0;34m\u001b[0m\u001b[0m\n\u001b[1;32m      5\u001b[0m \u001b[0max\u001b[0m\u001b[0;34m.\u001b[0m\u001b[0mset_xticklabels\u001b[0m\u001b[0;34m(\u001b[0m\u001b[0;34m[\u001b[0m\u001b[0;34m'Prediction'\u001b[0m\u001b[0;34m,\u001b[0m \u001b[0;34m'Real Price'\u001b[0m\u001b[0;34m]\u001b[0m\u001b[0;34m)\u001b[0m\u001b[0;34m\u001b[0m\u001b[0;34m\u001b[0m\u001b[0m\n",
            "\u001b[0;31mNameError\u001b[0m: name 'y_pred_rf' is not defined"
          ]
        },
        {
          "output_type": "display_data",
          "data": {
            "text/plain": [
              "<Figure size 500x300 with 1 Axes>"
            ],
            "image/png": "[encoded data removed]"
          },
          "metadata": {}
        }
      ]
    },
    {
      "cell_type": "code",
      "source": [],
      "metadata": {
        "id": "iWlHlv2py7Sf"
      },
      "execution_count": null,
      "outputs": []
    }
  ]
}